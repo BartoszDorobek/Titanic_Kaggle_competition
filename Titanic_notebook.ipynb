{
 "cells": [
  {
   "cell_type": "markdown",
   "id": "faf27780",
   "metadata": {
    "papermill": {
     "duration": 0.03566,
     "end_time": "2022-02-26T03:35:00.532985",
     "exception": false,
     "start_time": "2022-02-26T03:35:00.497325",
     "status": "completed"
    },
    "tags": []
   },
   "source": [
    "# Titanic - Machine Learning from Disaster <a class=\"anchor\" id=\"zero-bullet\"></a>"
   ]
  },
  {
   "cell_type": "markdown",
   "id": "4f7c3d85",
   "metadata": {
    "papermill": {
     "duration": 0.031449,
     "end_time": "2022-02-26T03:35:00.598568",
     "exception": false,
     "start_time": "2022-02-26T03:35:00.567119",
     "status": "completed"
    },
    "tags": []
   },
   "source": [
    "## Table of contents:\n",
    "1. [Imports](#first-bullet)\n",
    "2. [Data processing](#second-bullet)\n",
    "3. [Data spliting](#third-bullet)\n",
    "4. [Modeling](#fourth-bullet)\n",
    "    * [Decision Tree Classifier](#fifth-bullet)\n",
    "    * [Random Forest Classifier](#sixth-bullet)\n",
    "5. [Algorithm prediction - validation data](#seventh-bullet)"
   ]
  },
  {
   "cell_type": "markdown",
   "id": "8f5efe74",
   "metadata": {
    "papermill": {
     "duration": 0.03137,
     "end_time": "2022-02-26T03:35:00.662030",
     "exception": false,
     "start_time": "2022-02-26T03:35:00.630660",
     "status": "completed"
    },
    "tags": []
   },
   "source": [
    "## Imports <a class=\"anchor\" id=\"first-bullet\"></a>"
   ]
  },
  {
   "cell_type": "code",
   "execution_count": 19,
   "id": "7596f78a",
   "metadata": {
    "papermill": {
     "duration": 6.926998,
     "end_time": "2022-02-26T03:35:07.620756",
     "exception": false,
     "start_time": "2022-02-26T03:35:00.693758",
     "status": "completed"
    },
    "tags": []
   },
   "outputs": [
    {
     "name": "stdout",
     "output_type": "stream",
     "text": [
      "input\\gender_submission.csv\n",
      "input\\test.csv\n",
      "input\\train.csv\n",
      "input\\.ipynb_checkpoints\\gender_submission-checkpoint.csv\n",
      "input\\.ipynb_checkpoints\\test-checkpoint.csv\n",
      "input\\.ipynb_checkpoints\\train-checkpoint.csv\n"
     ]
    }
   ],
   "source": [
    "import numpy as np\n",
    "import pandas as pd\n",
    "import matplotlib.pyplot as plt\n",
    "import seaborn as sns\n",
    "import keras\n",
    "import os\n",
    "from collections import Counter\n",
    "import re\n",
    "\n",
    "for dirname, _, filenames in os.walk('input'):\n",
    "    for filename in filenames:\n",
    "        print(os.path.join(dirname, filename))   \n",
    "\n",
    "validation=pd.read_csv('input/test.csv', index_col=0)\n",
    "data=pd.read_csv('input/train.csv', index_col=0)"
   ]
  },
  {
   "cell_type": "code",
   "execution_count": 6,
   "id": "933baf46",
   "metadata": {
    "papermill": {
     "duration": 0.064844,
     "end_time": "2022-02-26T03:35:07.719001",
     "exception": false,
     "start_time": "2022-02-26T03:35:07.654157",
     "status": "completed"
    },
    "tags": []
   },
   "outputs": [
    {
     "data": {
      "text/html": [
       "<div>\n",
       "<style scoped>\n",
       "    .dataframe tbody tr th:only-of-type {\n",
       "        vertical-align: middle;\n",
       "    }\n",
       "\n",
       "    .dataframe tbody tr th {\n",
       "        vertical-align: top;\n",
       "    }\n",
       "\n",
       "    .dataframe thead th {\n",
       "        text-align: right;\n",
       "    }\n",
       "</style>\n",
       "<table border=\"1\" class=\"dataframe\">\n",
       "  <thead>\n",
       "    <tr style=\"text-align: right;\">\n",
       "      <th></th>\n",
       "      <th>Survived</th>\n",
       "      <th>Pclass</th>\n",
       "      <th>Name</th>\n",
       "      <th>Sex</th>\n",
       "      <th>Age</th>\n",
       "      <th>SibSp</th>\n",
       "      <th>Parch</th>\n",
       "      <th>Ticket</th>\n",
       "      <th>Fare</th>\n",
       "      <th>Cabin</th>\n",
       "      <th>Embarked</th>\n",
       "    </tr>\n",
       "    <tr>\n",
       "      <th>PassengerId</th>\n",
       "      <th></th>\n",
       "      <th></th>\n",
       "      <th></th>\n",
       "      <th></th>\n",
       "      <th></th>\n",
       "      <th></th>\n",
       "      <th></th>\n",
       "      <th></th>\n",
       "      <th></th>\n",
       "      <th></th>\n",
       "      <th></th>\n",
       "    </tr>\n",
       "  </thead>\n",
       "  <tbody>\n",
       "    <tr>\n",
       "      <th>1</th>\n",
       "      <td>0</td>\n",
       "      <td>3</td>\n",
       "      <td>Braund, Mr. Owen Harris</td>\n",
       "      <td>male</td>\n",
       "      <td>22.0</td>\n",
       "      <td>1</td>\n",
       "      <td>0</td>\n",
       "      <td>A/5 21171</td>\n",
       "      <td>7.2500</td>\n",
       "      <td>NaN</td>\n",
       "      <td>S</td>\n",
       "    </tr>\n",
       "    <tr>\n",
       "      <th>2</th>\n",
       "      <td>1</td>\n",
       "      <td>1</td>\n",
       "      <td>Cumings, Mrs. John Bradley (Florence Briggs Th...</td>\n",
       "      <td>female</td>\n",
       "      <td>38.0</td>\n",
       "      <td>1</td>\n",
       "      <td>0</td>\n",
       "      <td>PC 17599</td>\n",
       "      <td>71.2833</td>\n",
       "      <td>C85</td>\n",
       "      <td>C</td>\n",
       "    </tr>\n",
       "    <tr>\n",
       "      <th>3</th>\n",
       "      <td>1</td>\n",
       "      <td>3</td>\n",
       "      <td>Heikkinen, Miss. Laina</td>\n",
       "      <td>female</td>\n",
       "      <td>26.0</td>\n",
       "      <td>0</td>\n",
       "      <td>0</td>\n",
       "      <td>STON/O2. 3101282</td>\n",
       "      <td>7.9250</td>\n",
       "      <td>NaN</td>\n",
       "      <td>S</td>\n",
       "    </tr>\n",
       "    <tr>\n",
       "      <th>4</th>\n",
       "      <td>1</td>\n",
       "      <td>1</td>\n",
       "      <td>Futrelle, Mrs. Jacques Heath (Lily May Peel)</td>\n",
       "      <td>female</td>\n",
       "      <td>35.0</td>\n",
       "      <td>1</td>\n",
       "      <td>0</td>\n",
       "      <td>113803</td>\n",
       "      <td>53.1000</td>\n",
       "      <td>C123</td>\n",
       "      <td>S</td>\n",
       "    </tr>\n",
       "    <tr>\n",
       "      <th>5</th>\n",
       "      <td>0</td>\n",
       "      <td>3</td>\n",
       "      <td>Allen, Mr. William Henry</td>\n",
       "      <td>male</td>\n",
       "      <td>35.0</td>\n",
       "      <td>0</td>\n",
       "      <td>0</td>\n",
       "      <td>373450</td>\n",
       "      <td>8.0500</td>\n",
       "      <td>NaN</td>\n",
       "      <td>S</td>\n",
       "    </tr>\n",
       "    <tr>\n",
       "      <th>...</th>\n",
       "      <td>...</td>\n",
       "      <td>...</td>\n",
       "      <td>...</td>\n",
       "      <td>...</td>\n",
       "      <td>...</td>\n",
       "      <td>...</td>\n",
       "      <td>...</td>\n",
       "      <td>...</td>\n",
       "      <td>...</td>\n",
       "      <td>...</td>\n",
       "      <td>...</td>\n",
       "    </tr>\n",
       "    <tr>\n",
       "      <th>887</th>\n",
       "      <td>0</td>\n",
       "      <td>2</td>\n",
       "      <td>Montvila, Rev. Juozas</td>\n",
       "      <td>male</td>\n",
       "      <td>27.0</td>\n",
       "      <td>0</td>\n",
       "      <td>0</td>\n",
       "      <td>211536</td>\n",
       "      <td>13.0000</td>\n",
       "      <td>NaN</td>\n",
       "      <td>S</td>\n",
       "    </tr>\n",
       "    <tr>\n",
       "      <th>888</th>\n",
       "      <td>1</td>\n",
       "      <td>1</td>\n",
       "      <td>Graham, Miss. Margaret Edith</td>\n",
       "      <td>female</td>\n",
       "      <td>19.0</td>\n",
       "      <td>0</td>\n",
       "      <td>0</td>\n",
       "      <td>112053</td>\n",
       "      <td>30.0000</td>\n",
       "      <td>B42</td>\n",
       "      <td>S</td>\n",
       "    </tr>\n",
       "    <tr>\n",
       "      <th>889</th>\n",
       "      <td>0</td>\n",
       "      <td>3</td>\n",
       "      <td>Johnston, Miss. Catherine Helen \"Carrie\"</td>\n",
       "      <td>female</td>\n",
       "      <td>NaN</td>\n",
       "      <td>1</td>\n",
       "      <td>2</td>\n",
       "      <td>W./C. 6607</td>\n",
       "      <td>23.4500</td>\n",
       "      <td>NaN</td>\n",
       "      <td>S</td>\n",
       "    </tr>\n",
       "    <tr>\n",
       "      <th>890</th>\n",
       "      <td>1</td>\n",
       "      <td>1</td>\n",
       "      <td>Behr, Mr. Karl Howell</td>\n",
       "      <td>male</td>\n",
       "      <td>26.0</td>\n",
       "      <td>0</td>\n",
       "      <td>0</td>\n",
       "      <td>111369</td>\n",
       "      <td>30.0000</td>\n",
       "      <td>C148</td>\n",
       "      <td>C</td>\n",
       "    </tr>\n",
       "    <tr>\n",
       "      <th>891</th>\n",
       "      <td>0</td>\n",
       "      <td>3</td>\n",
       "      <td>Dooley, Mr. Patrick</td>\n",
       "      <td>male</td>\n",
       "      <td>32.0</td>\n",
       "      <td>0</td>\n",
       "      <td>0</td>\n",
       "      <td>370376</td>\n",
       "      <td>7.7500</td>\n",
       "      <td>NaN</td>\n",
       "      <td>Q</td>\n",
       "    </tr>\n",
       "  </tbody>\n",
       "</table>\n",
       "<p>891 rows × 11 columns</p>\n",
       "</div>"
      ],
      "text/plain": [
       "             Survived  Pclass  \\\n",
       "PassengerId                     \n",
       "1                   0       3   \n",
       "2                   1       1   \n",
       "3                   1       3   \n",
       "4                   1       1   \n",
       "5                   0       3   \n",
       "...               ...     ...   \n",
       "887                 0       2   \n",
       "888                 1       1   \n",
       "889                 0       3   \n",
       "890                 1       1   \n",
       "891                 0       3   \n",
       "\n",
       "                                                          Name     Sex   Age  \\\n",
       "PassengerId                                                                    \n",
       "1                                      Braund, Mr. Owen Harris    male  22.0   \n",
       "2            Cumings, Mrs. John Bradley (Florence Briggs Th...  female  38.0   \n",
       "3                                       Heikkinen, Miss. Laina  female  26.0   \n",
       "4                 Futrelle, Mrs. Jacques Heath (Lily May Peel)  female  35.0   \n",
       "5                                     Allen, Mr. William Henry    male  35.0   \n",
       "...                                                        ...     ...   ...   \n",
       "887                                      Montvila, Rev. Juozas    male  27.0   \n",
       "888                               Graham, Miss. Margaret Edith  female  19.0   \n",
       "889                   Johnston, Miss. Catherine Helen \"Carrie\"  female   NaN   \n",
       "890                                      Behr, Mr. Karl Howell    male  26.0   \n",
       "891                                        Dooley, Mr. Patrick    male  32.0   \n",
       "\n",
       "             SibSp  Parch            Ticket     Fare Cabin Embarked  \n",
       "PassengerId                                                          \n",
       "1                1      0         A/5 21171   7.2500   NaN        S  \n",
       "2                1      0          PC 17599  71.2833   C85        C  \n",
       "3                0      0  STON/O2. 3101282   7.9250   NaN        S  \n",
       "4                1      0            113803  53.1000  C123        S  \n",
       "5                0      0            373450   8.0500   NaN        S  \n",
       "...            ...    ...               ...      ...   ...      ...  \n",
       "887              0      0            211536  13.0000   NaN        S  \n",
       "888              0      0            112053  30.0000   B42        S  \n",
       "889              1      2        W./C. 6607  23.4500   NaN        S  \n",
       "890              0      0            111369  30.0000  C148        C  \n",
       "891              0      0            370376   7.7500   NaN        Q  \n",
       "\n",
       "[891 rows x 11 columns]"
      ]
     },
     "execution_count": 6,
     "metadata": {},
     "output_type": "execute_result"
    }
   ],
   "source": [
    "#raw data table\n",
    "data"
   ]
  },
  {
   "cell_type": "markdown",
   "id": "9cf498ea-67c5-4180-aec3-a0e4ad800922",
   "metadata": {},
   "source": [
    "## Data processing steps (skip that part and go to the function)"
   ]
  },
  {
   "cell_type": "code",
   "execution_count": 7,
   "id": "d20d5a7a-c423-4c80-b19f-bcca4e339a39",
   "metadata": {},
   "outputs": [
    {
     "data": {
      "text/plain": [
       "Survived      0\n",
       "Pclass        0\n",
       "Name          0\n",
       "Sex           0\n",
       "Age         177\n",
       "SibSp         0\n",
       "Parch         0\n",
       "Ticket        0\n",
       "Fare          0\n",
       "Cabin       687\n",
       "Embarked      2\n",
       "dtype: int64"
      ]
     },
     "execution_count": 7,
     "metadata": {},
     "output_type": "execute_result"
    }
   ],
   "source": [
    "data.isnull().sum()"
   ]
  },
  {
   "cell_type": "markdown",
   "id": "318561c3-a2eb-47b2-899f-7a8d7b9e643b",
   "metadata": {
    "tags": []
   },
   "source": [
    "### Sex"
   ]
  },
  {
   "cell_type": "code",
   "execution_count": 8,
   "id": "548b7e8e-3451-4f6d-8a29-d6108b0926ad",
   "metadata": {},
   "outputs": [],
   "source": [
    "# Male=0; Famale=1\n",
    "data['Sex'].replace('female', 0, inplace=True)\n",
    "data['Sex'].replace('male', 1, inplace=True)"
   ]
  },
  {
   "cell_type": "markdown",
   "id": "00b4e507-79b6-4300-a7e2-3f22ce30557f",
   "metadata": {
    "tags": []
   },
   "source": [
    "### Age"
   ]
  },
  {
   "cell_type": "code",
   "execution_count": 9,
   "id": "a288c40a-a99d-45e4-93cf-23d22c79a1c1",
   "metadata": {
    "tags": []
   },
   "outputs": [
    {
     "name": "stdout",
     "output_type": "stream",
     "text": [
      "mean value of age is 29.69911764705882\n",
      "median value of age is 28.0\n",
      "mode value of age is 24.0\n"
     ]
    },
    {
     "data": {
      "image/png": "[encoded data removed]",
      "text/plain": [
       "<Figure size 432x288 with 1 Axes>"
      ]
     },
     "metadata": {
      "needs_background": "light"
     },
     "output_type": "display_data"
    }
   ],
   "source": [
    "sns.histplot(data.Age)\n",
    "#data.Age.plot.hist()\n",
    "\n",
    "mean_age = data[\"Age\"].mean()\n",
    "median_age = data[\"Age\"].median()\n",
    "mode_age = data[\"Age\"].mode().item()\n",
    "\n",
    "print(\"mean value of age is\",mean_age)\n",
    "print(\"median value of age is\",median_age)\n",
    "print(\"mode value of age is\",mode_age)"
   ]
  },
  {
   "cell_type": "code",
   "execution_count": 10,
   "id": "158d6a63-ca29-445f-8adc-65e72a9ad459",
   "metadata": {},
   "outputs": [
    {
     "data": {
      "text/plain": [
       "<matplotlib.axes._subplots.AxesSubplot at 0x27972814508>"
      ]
     },
     "execution_count": 10,
     "metadata": {},
     "output_type": "execute_result"
    },
    {
     "data": {
      "image/png": "[encoded data removed]",
      "text/plain": [
       "<Figure size 432x288 with 1 Axes>"
      ]
     },
     "metadata": {
      "needs_background": "light"
     },
     "output_type": "display_data"
    }
   ],
   "source": [
    "# Filling empty cells with median age value\n",
    "data['Age'] = data['Age'].replace(np.nan, median_age)\n",
    "sns.histplot(data.Age)"
   ]
  },
  {
   "cell_type": "markdown",
   "id": "83d33992-35dd-4e99-8394-117db18e156d",
   "metadata": {},
   "source": [
    "### Embarked"
   ]
  },
  {
   "cell_type": "code",
   "execution_count": 11,
   "id": "d7e2ace2-9bb0-496e-a369-80b346718cef",
   "metadata": {},
   "outputs": [
    {
     "name": "stdout",
     "output_type": "stream",
     "text": [
      "Counter({'S': 644, 'C': 168, 'Q': 77, nan: 2})\n",
      "[('S', 644)]\n"
     ]
    }
   ],
   "source": [
    "Counter = Counter(data['Embarked'])\n",
    "most_common = Counter.most_common(1)\n",
    "print(Counter)\n",
    "print(most_common)"
   ]
  },
  {
   "cell_type": "code",
   "execution_count": 12,
   "id": "580aed2d-c202-4cd0-af26-8f1e3663921d",
   "metadata": {},
   "outputs": [],
   "source": [
    "# Fill empty cells with the most common value of Embarked\n",
    "data['Embarked'] = data['Embarked'].replace(np.nan, 'S')\n",
    "\n",
    "#data.Embarked.unique()\n",
    "# data['EmbarkedS']=data['Embarked'].replace('Q',0).replace('C',0).replace('S',1)\n",
    "# data['EmbarkedC']=data['Embarked'].replace('S',0).replace('Q',0).replace('C',1)\n",
    "# data['EmbarkedQ']=data['Embarked'].replace('C',0).replace('S',0).replace('Q',1)\n",
    "\n",
    "# One Hot encoding columns:\n",
    "dummies_embarked = pd.get_dummies(data.Embarked, prefix='Embarked_')\n",
    "data = pd.concat([data, dummies_embarked], axis=1)"
   ]
  },
  {
   "cell_type": "markdown",
   "id": "17f2da0a-a958-4cb5-818f-75d422d97913",
   "metadata": {},
   "source": [
    "### Cabin"
   ]
  },
  {
   "cell_type": "code",
   "execution_count": 13,
   "id": "35576366-06b4-4598-ba2b-14d9e79e90f5",
   "metadata": {},
   "outputs": [],
   "source": [
    "# consider the cabin number\n",
    "# data.Cabin.fillna('X', inplace=True)\n",
    "# import re\n",
    "\n",
    "# maxi = len(data.Cabin) + 1\n",
    "# Cabin_num_list = [] \n",
    "   \n",
    "# for i in range(1,maxi):\n",
    "#     s = data.Cabin[i]\n",
    "#     res = re.findall('(\\d+|[A-Za-z]+)', s) \n",
    "#     cab = res[-1]\n",
    "#     if cab.isalpha():\n",
    "#         Cabin_num_list.append(0)\n",
    "#     else:\n",
    "#         Cabin_num_list.append(int(cab))\n",
    "#-----\n",
    "#data.insert(10, \"Cabin_num\", Cabin_num_list)\n",
    "\n",
    "#data.Cabin_num = pd.to_numeric(data.Cabin_num)\n",
    "\n",
    "#data.Cabin_num.fillna(0, inplace=True)"
   ]
  },
  {
   "cell_type": "code",
   "execution_count": 14,
   "id": "1d8a1b73-5e24-41a5-932b-e98c86337317",
   "metadata": {
    "tags": []
   },
   "outputs": [],
   "source": [
    "# Fill empty cells with X\n",
    "data.Cabin.fillna('X', inplace=True)\n",
    "\n",
    "# consider the cabin letter\n",
    "data.Cabin=data.Cabin.apply(lambda x: x[0])\n",
    "\n",
    "# One Hot encoding columns:\n",
    "dummies_cabin = pd.get_dummies(data.Cabin, prefix='Cabin_')\n",
    "data = pd.concat([data, dummies_cabin], axis=1)"
   ]
  },
  {
   "cell_type": "code",
   "execution_count": 15,
   "id": "0385dfd0-4b1d-42a3-954f-82c01a9e0767",
   "metadata": {},
   "outputs": [],
   "source": [
    "#consider the cabin letter\n",
    "data.Cabin=data.Cabin.apply(lambda x: x[0])\n",
    "\n",
    "#One Hot encoding columns:\n",
    "dummies_cabin = pd.get_dummies(data.Cabin, prefix='Cabin_')\n",
    "data = pd.concat([data, dummies_cabin], axis=1)"
   ]
  },
  {
   "cell_type": "code",
   "execution_count": 16,
   "id": "a6a2a84b-3179-470a-a121-472c4db7a741",
   "metadata": {
    "tags": []
   },
   "outputs": [],
   "source": [
    "data.drop(['Embarked','Name','Ticket','Cabin'], axis=1, inplace=True, errors='ignore')\n"
   ]
  },
  {
   "cell_type": "markdown",
   "id": "42d5df51",
   "metadata": {
    "papermill": {
     "duration": 0.032832,
     "end_time": "2022-02-26T03:35:07.785734",
     "exception": false,
     "start_time": "2022-02-26T03:35:07.752902",
     "status": "completed"
    },
    "tags": []
   },
   "source": [
    "## Data processing <a class=\"anchor\" id=\"second-bullet\"></a>"
   ]
  },
  {
   "cell_type": "code",
   "execution_count": 20,
   "id": "7423878c",
   "metadata": {
    "papermill": {
     "duration": 0.046631,
     "end_time": "2022-02-26T03:35:07.866822",
     "exception": false,
     "start_time": "2022-02-26T03:35:07.820191",
     "status": "completed"
    },
    "tags": []
   },
   "outputs": [],
   "source": [
    "def data_processing(data):\n",
    "    data['Sex'].replace('female', 0, inplace=True)\n",
    "    data['Sex'].replace('male', 1, inplace=True)\n",
    "    \n",
    "    # Fill empty Age cells with median value\n",
    "    median_age = data[\"Age\"].median()\n",
    "    data['Age'] = data['Age'].replace(np.nan, median_age)\n",
    "    \n",
    "    # Fill empty Embarked cells with the most common value 'S'\n",
    "    data['Embarked'] = data['Embarked'].replace(np.nan, 'S')\n",
    "    # One Hot encoding columns:\n",
    "    dummies_embarked = pd.get_dummies(data.Embarked, prefix='Embarked')\n",
    "    data = pd.concat([data, dummies_embarked], axis=1)\n",
    "    \n",
    "    # Fill empty Cabin cells with 'X'\n",
    "    data.Cabin.fillna('X', inplace=True)\n",
    "    # Consider the cabin letter\n",
    "    data.Cabin=data.Cabin.apply(lambda x: x[0])\n",
    "    # One Hot encoding columns:\n",
    "    dummies_cabin = pd.get_dummies(data.Cabin, prefix='Cabin')    \n",
    "    data = pd.concat([data, dummies_cabin], axis=1)\n",
    "    \n",
    "    data.drop(['Embarked','Name','Ticket','Cabin'], axis=1, inplace=True)\n",
    "    return(data)"
   ]
  },
  {
   "cell_type": "code",
   "execution_count": 21,
   "id": "c9f0a1ec",
   "metadata": {
    "papermill": {
     "duration": 0.062206,
     "end_time": "2022-02-26T03:35:07.964185",
     "exception": false,
     "start_time": "2022-02-26T03:35:07.901979",
     "status": "completed"
    },
    "tags": []
   },
   "outputs": [],
   "source": [
    "df_val = data_processing(validation)\n",
    "df_train_and_test = data_processing(data)"
   ]
  },
  {
   "cell_type": "code",
   "execution_count": 22,
   "id": "0dece3ca",
   "metadata": {
    "papermill": {
     "duration": 0.059698,
     "end_time": "2022-02-26T03:35:08.058757",
     "exception": false,
     "start_time": "2022-02-26T03:35:07.999059",
     "status": "completed"
    },
    "tags": []
   },
   "outputs": [
    {
     "data": {
      "text/html": [
       "<div>\n",
       "<style scoped>\n",
       "    .dataframe tbody tr th:only-of-type {\n",
       "        vertical-align: middle;\n",
       "    }\n",
       "\n",
       "    .dataframe tbody tr th {\n",
       "        vertical-align: top;\n",
       "    }\n",
       "\n",
       "    .dataframe thead th {\n",
       "        text-align: right;\n",
       "    }\n",
       "</style>\n",
       "<table border=\"1\" class=\"dataframe\">\n",
       "  <thead>\n",
       "    <tr style=\"text-align: right;\">\n",
       "      <th></th>\n",
       "      <th>Survived</th>\n",
       "      <th>Pclass</th>\n",
       "      <th>Sex</th>\n",
       "      <th>Age</th>\n",
       "      <th>SibSp</th>\n",
       "      <th>Parch</th>\n",
       "      <th>Fare</th>\n",
       "      <th>Embarked_C</th>\n",
       "      <th>Embarked_Q</th>\n",
       "      <th>Embarked_S</th>\n",
       "      <th>Cabin_A</th>\n",
       "      <th>Cabin_B</th>\n",
       "      <th>Cabin_C</th>\n",
       "      <th>Cabin_D</th>\n",
       "      <th>Cabin_E</th>\n",
       "      <th>Cabin_F</th>\n",
       "      <th>Cabin_G</th>\n",
       "      <th>Cabin_T</th>\n",
       "      <th>Cabin_X</th>\n",
       "    </tr>\n",
       "    <tr>\n",
       "      <th>PassengerId</th>\n",
       "      <th></th>\n",
       "      <th></th>\n",
       "      <th></th>\n",
       "      <th></th>\n",
       "      <th></th>\n",
       "      <th></th>\n",
       "      <th></th>\n",
       "      <th></th>\n",
       "      <th></th>\n",
       "      <th></th>\n",
       "      <th></th>\n",
       "      <th></th>\n",
       "      <th></th>\n",
       "      <th></th>\n",
       "      <th></th>\n",
       "      <th></th>\n",
       "      <th></th>\n",
       "      <th></th>\n",
       "      <th></th>\n",
       "    </tr>\n",
       "  </thead>\n",
       "  <tbody>\n",
       "    <tr>\n",
       "      <th>1</th>\n",
       "      <td>0</td>\n",
       "      <td>3</td>\n",
       "      <td>1</td>\n",
       "      <td>22.0</td>\n",
       "      <td>1</td>\n",
       "      <td>0</td>\n",
       "      <td>7.2500</td>\n",
       "      <td>0</td>\n",
       "      <td>0</td>\n",
       "      <td>1</td>\n",
       "      <td>0</td>\n",
       "      <td>0</td>\n",
       "      <td>0</td>\n",
       "      <td>0</td>\n",
       "      <td>0</td>\n",
       "      <td>0</td>\n",
       "      <td>0</td>\n",
       "      <td>0</td>\n",
       "      <td>1</td>\n",
       "    </tr>\n",
       "    <tr>\n",
       "      <th>2</th>\n",
       "      <td>1</td>\n",
       "      <td>1</td>\n",
       "      <td>0</td>\n",
       "      <td>38.0</td>\n",
       "      <td>1</td>\n",
       "      <td>0</td>\n",
       "      <td>71.2833</td>\n",
       "      <td>1</td>\n",
       "      <td>0</td>\n",
       "      <td>0</td>\n",
       "      <td>0</td>\n",
       "      <td>0</td>\n",
       "      <td>1</td>\n",
       "      <td>0</td>\n",
       "      <td>0</td>\n",
       "      <td>0</td>\n",
       "      <td>0</td>\n",
       "      <td>0</td>\n",
       "      <td>0</td>\n",
       "    </tr>\n",
       "    <tr>\n",
       "      <th>3</th>\n",
       "      <td>1</td>\n",
       "      <td>3</td>\n",
       "      <td>0</td>\n",
       "      <td>26.0</td>\n",
       "      <td>0</td>\n",
       "      <td>0</td>\n",
       "      <td>7.9250</td>\n",
       "      <td>0</td>\n",
       "      <td>0</td>\n",
       "      <td>1</td>\n",
       "      <td>0</td>\n",
       "      <td>0</td>\n",
       "      <td>0</td>\n",
       "      <td>0</td>\n",
       "      <td>0</td>\n",
       "      <td>0</td>\n",
       "      <td>0</td>\n",
       "      <td>0</td>\n",
       "      <td>1</td>\n",
       "    </tr>\n",
       "    <tr>\n",
       "      <th>4</th>\n",
       "      <td>1</td>\n",
       "      <td>1</td>\n",
       "      <td>0</td>\n",
       "      <td>35.0</td>\n",
       "      <td>1</td>\n",
       "      <td>0</td>\n",
       "      <td>53.1000</td>\n",
       "      <td>0</td>\n",
       "      <td>0</td>\n",
       "      <td>1</td>\n",
       "      <td>0</td>\n",
       "      <td>0</td>\n",
       "      <td>1</td>\n",
       "      <td>0</td>\n",
       "      <td>0</td>\n",
       "      <td>0</td>\n",
       "      <td>0</td>\n",
       "      <td>0</td>\n",
       "      <td>0</td>\n",
       "    </tr>\n",
       "    <tr>\n",
       "      <th>5</th>\n",
       "      <td>0</td>\n",
       "      <td>3</td>\n",
       "      <td>1</td>\n",
       "      <td>35.0</td>\n",
       "      <td>0</td>\n",
       "      <td>0</td>\n",
       "      <td>8.0500</td>\n",
       "      <td>0</td>\n",
       "      <td>0</td>\n",
       "      <td>1</td>\n",
       "      <td>0</td>\n",
       "      <td>0</td>\n",
       "      <td>0</td>\n",
       "      <td>0</td>\n",
       "      <td>0</td>\n",
       "      <td>0</td>\n",
       "      <td>0</td>\n",
       "      <td>0</td>\n",
       "      <td>1</td>\n",
       "    </tr>\n",
       "    <tr>\n",
       "      <th>...</th>\n",
       "      <td>...</td>\n",
       "      <td>...</td>\n",
       "      <td>...</td>\n",
       "      <td>...</td>\n",
       "      <td>...</td>\n",
       "      <td>...</td>\n",
       "      <td>...</td>\n",
       "      <td>...</td>\n",
       "      <td>...</td>\n",
       "      <td>...</td>\n",
       "      <td>...</td>\n",
       "      <td>...</td>\n",
       "      <td>...</td>\n",
       "      <td>...</td>\n",
       "      <td>...</td>\n",
       "      <td>...</td>\n",
       "      <td>...</td>\n",
       "      <td>...</td>\n",
       "      <td>...</td>\n",
       "    </tr>\n",
       "    <tr>\n",
       "      <th>887</th>\n",
       "      <td>0</td>\n",
       "      <td>2</td>\n",
       "      <td>1</td>\n",
       "      <td>27.0</td>\n",
       "      <td>0</td>\n",
       "      <td>0</td>\n",
       "      <td>13.0000</td>\n",
       "      <td>0</td>\n",
       "      <td>0</td>\n",
       "      <td>1</td>\n",
       "      <td>0</td>\n",
       "      <td>0</td>\n",
       "      <td>0</td>\n",
       "      <td>0</td>\n",
       "      <td>0</td>\n",
       "      <td>0</td>\n",
       "      <td>0</td>\n",
       "      <td>0</td>\n",
       "      <td>1</td>\n",
       "    </tr>\n",
       "    <tr>\n",
       "      <th>888</th>\n",
       "      <td>1</td>\n",
       "      <td>1</td>\n",
       "      <td>0</td>\n",
       "      <td>19.0</td>\n",
       "      <td>0</td>\n",
       "      <td>0</td>\n",
       "      <td>30.0000</td>\n",
       "      <td>0</td>\n",
       "      <td>0</td>\n",
       "      <td>1</td>\n",
       "      <td>0</td>\n",
       "      <td>1</td>\n",
       "      <td>0</td>\n",
       "      <td>0</td>\n",
       "      <td>0</td>\n",
       "      <td>0</td>\n",
       "      <td>0</td>\n",
       "      <td>0</td>\n",
       "      <td>0</td>\n",
       "    </tr>\n",
       "    <tr>\n",
       "      <th>889</th>\n",
       "      <td>0</td>\n",
       "      <td>3</td>\n",
       "      <td>0</td>\n",
       "      <td>28.0</td>\n",
       "      <td>1</td>\n",
       "      <td>2</td>\n",
       "      <td>23.4500</td>\n",
       "      <td>0</td>\n",
       "      <td>0</td>\n",
       "      <td>1</td>\n",
       "      <td>0</td>\n",
       "      <td>0</td>\n",
       "      <td>0</td>\n",
       "      <td>0</td>\n",
       "      <td>0</td>\n",
       "      <td>0</td>\n",
       "      <td>0</td>\n",
       "      <td>0</td>\n",
       "      <td>1</td>\n",
       "    </tr>\n",
       "    <tr>\n",
       "      <th>890</th>\n",
       "      <td>1</td>\n",
       "      <td>1</td>\n",
       "      <td>1</td>\n",
       "      <td>26.0</td>\n",
       "      <td>0</td>\n",
       "      <td>0</td>\n",
       "      <td>30.0000</td>\n",
       "      <td>1</td>\n",
       "      <td>0</td>\n",
       "      <td>0</td>\n",
       "      <td>0</td>\n",
       "      <td>0</td>\n",
       "      <td>1</td>\n",
       "      <td>0</td>\n",
       "      <td>0</td>\n",
       "      <td>0</td>\n",
       "      <td>0</td>\n",
       "      <td>0</td>\n",
       "      <td>0</td>\n",
       "    </tr>\n",
       "    <tr>\n",
       "      <th>891</th>\n",
       "      <td>0</td>\n",
       "      <td>3</td>\n",
       "      <td>1</td>\n",
       "      <td>32.0</td>\n",
       "      <td>0</td>\n",
       "      <td>0</td>\n",
       "      <td>7.7500</td>\n",
       "      <td>0</td>\n",
       "      <td>1</td>\n",
       "      <td>0</td>\n",
       "      <td>0</td>\n",
       "      <td>0</td>\n",
       "      <td>0</td>\n",
       "      <td>0</td>\n",
       "      <td>0</td>\n",
       "      <td>0</td>\n",
       "      <td>0</td>\n",
       "      <td>0</td>\n",
       "      <td>1</td>\n",
       "    </tr>\n",
       "  </tbody>\n",
       "</table>\n",
       "<p>891 rows × 19 columns</p>\n",
       "</div>"
      ],
      "text/plain": [
       "             Survived  Pclass  Sex   Age  SibSp  Parch     Fare  Embarked_C  \\\n",
       "PassengerId                                                                   \n",
       "1                   0       3    1  22.0      1      0   7.2500           0   \n",
       "2                   1       1    0  38.0      1      0  71.2833           1   \n",
       "3                   1       3    0  26.0      0      0   7.9250           0   \n",
       "4                   1       1    0  35.0      1      0  53.1000           0   \n",
       "5                   0       3    1  35.0      0      0   8.0500           0   \n",
       "...               ...     ...  ...   ...    ...    ...      ...         ...   \n",
       "887                 0       2    1  27.0      0      0  13.0000           0   \n",
       "888                 1       1    0  19.0      0      0  30.0000           0   \n",
       "889                 0       3    0  28.0      1      2  23.4500           0   \n",
       "890                 1       1    1  26.0      0      0  30.0000           1   \n",
       "891                 0       3    1  32.0      0      0   7.7500           0   \n",
       "\n",
       "             Embarked_Q  Embarked_S  Cabin_A  Cabin_B  Cabin_C  Cabin_D  \\\n",
       "PassengerId                                                               \n",
       "1                     0           1        0        0        0        0   \n",
       "2                     0           0        0        0        1        0   \n",
       "3                     0           1        0        0        0        0   \n",
       "4                     0           1        0        0        1        0   \n",
       "5                     0           1        0        0        0        0   \n",
       "...                 ...         ...      ...      ...      ...      ...   \n",
       "887                   0           1        0        0        0        0   \n",
       "888                   0           1        0        1        0        0   \n",
       "889                   0           1        0        0        0        0   \n",
       "890                   0           0        0        0        1        0   \n",
       "891                   1           0        0        0        0        0   \n",
       "\n",
       "             Cabin_E  Cabin_F  Cabin_G  Cabin_T  Cabin_X  \n",
       "PassengerId                                               \n",
       "1                  0        0        0        0        1  \n",
       "2                  0        0        0        0        0  \n",
       "3                  0        0        0        0        1  \n",
       "4                  0        0        0        0        0  \n",
       "5                  0        0        0        0        1  \n",
       "...              ...      ...      ...      ...      ...  \n",
       "887                0        0        0        0        1  \n",
       "888                0        0        0        0        0  \n",
       "889                0        0        0        0        1  \n",
       "890                0        0        0        0        0  \n",
       "891                0        0        0        0        1  \n",
       "\n",
       "[891 rows x 19 columns]"
      ]
     },
     "execution_count": 22,
     "metadata": {},
     "output_type": "execute_result"
    }
   ],
   "source": [
    "df_train_and_test"
   ]
  },
  {
   "cell_type": "code",
   "execution_count": 23,
   "id": "a509a01e",
   "metadata": {
    "papermill": {
     "duration": 1.165701,
     "end_time": "2022-02-26T03:35:09.258412",
     "exception": false,
     "start_time": "2022-02-26T03:35:08.092711",
     "status": "completed"
    },
    "tags": []
   },
   "outputs": [
    {
     "data": {
      "image/png": "[encoded data removed]",
      "text/plain": [
       "<Figure size 1440x720 with 6 Axes>"
      ]
     },
     "metadata": {
      "needs_background": "light"
     },
     "output_type": "display_data"
    }
   ],
   "source": [
    "import warnings\n",
    "warnings.filterwarnings(\"ignore\", category=np.VisibleDeprecationWarning) \n",
    "\n",
    "features = ['Survived', 'Pclass', 'Sex', 'Age', 'SibSp', 'Parch']\n",
    "plt.figure(figsize=(20,10))\n",
    "\n",
    "for ftr in range(len(features)):\n",
    "    plt.subplot(2,3,ftr+1)\n",
    "    plt.hist([data[data['Survived']==0][features[ftr]],data[data['Survived']==1][features[ftr]]],bins=8, label=[\"Dead\", \"Survive\"])\n",
    "    plt.legend()\n",
    "    plt.xlabel(features[ftr])\n",
    "    plt.ylabel('Count')\n",
    "\n",
    "plt.show()"
   ]
  },
  {
   "cell_type": "code",
   "execution_count": 24,
   "id": "64581ef9",
   "metadata": {
    "papermill": {
     "duration": 0.04656,
     "end_time": "2022-02-26T03:35:09.342268",
     "exception": false,
     "start_time": "2022-02-26T03:35:09.295708",
     "status": "completed"
    },
    "tags": []
   },
   "outputs": [
    {
     "data": {
      "text/plain": [
       "(Index(['Pclass', 'Sex', 'Age', 'SibSp', 'Parch', 'Fare', 'Embarked_C',\n",
       "        'Embarked_Q', 'Embarked_S', 'Cabin_A', 'Cabin_B', 'Cabin_C', 'Cabin_D',\n",
       "        'Cabin_E', 'Cabin_F', 'Cabin_G', 'Cabin_X'],\n",
       "       dtype='object'),\n",
       " Index(['Survived', 'Pclass', 'Sex', 'Age', 'SibSp', 'Parch', 'Fare',\n",
       "        'Embarked_C', 'Embarked_Q', 'Embarked_S', 'Cabin_A', 'Cabin_B',\n",
       "        'Cabin_C', 'Cabin_D', 'Cabin_E', 'Cabin_F', 'Cabin_G', 'Cabin_T',\n",
       "        'Cabin_X'],\n",
       "       dtype='object'))"
      ]
     },
     "execution_count": 24,
     "metadata": {},
     "output_type": "execute_result"
    }
   ],
   "source": [
    "df_val.columns, df_train_and_test.columns"
   ]
  },
  {
   "cell_type": "code",
   "execution_count": 25,
   "id": "4992794a",
   "metadata": {
    "papermill": {
     "duration": 0.044116,
     "end_time": "2022-02-26T03:35:09.422254",
     "exception": false,
     "start_time": "2022-02-26T03:35:09.378138",
     "status": "completed"
    },
    "tags": []
   },
   "outputs": [],
   "source": [
    "# Additional preparing validation data:\n",
    "\n",
    "#add missing columns from df_train_and_test to df_val\n",
    "df_val[[x for x in df_train_and_test.columns if x not in df_val.columns]] = 0"
   ]
  },
  {
   "cell_type": "markdown",
   "id": "b1174747",
   "metadata": {
    "papermill": {
     "duration": 0.036252,
     "end_time": "2022-02-26T03:35:09.501807",
     "exception": false,
     "start_time": "2022-02-26T03:35:09.465555",
     "status": "completed"
    },
    "tags": []
   },
   "source": [
    "[Back to top](#zero-bullet)"
   ]
  },
  {
   "cell_type": "markdown",
   "id": "d5a86cff",
   "metadata": {
    "papermill": {
     "duration": 0.035476,
     "end_time": "2022-02-26T03:35:09.573066",
     "exception": false,
     "start_time": "2022-02-26T03:35:09.537590",
     "status": "completed"
    },
    "tags": []
   },
   "source": [
    "## Data spliting <a class=\"anchor\" id=\"third-bullet\"></a>"
   ]
  },
  {
   "cell_type": "code",
   "execution_count": 26,
   "id": "46af606c",
   "metadata": {
    "papermill": {
     "duration": 0.233169,
     "end_time": "2022-02-26T03:35:09.841690",
     "exception": false,
     "start_time": "2022-02-26T03:35:09.608521",
     "status": "completed"
    },
    "tags": []
   },
   "outputs": [],
   "source": [
    "from sklearn.model_selection import train_test_split\n",
    "\n",
    "df_train, df_test = train_test_split(df_train_and_test.copy(), test_size=0.3, random_state=8)\n",
    "\n",
    "y_train = df_train.pop('Survived')\n",
    "X_train = df_train\n",
    "\n",
    "y_test = df_test.pop('Survived')\n",
    "X_test = df_test\n",
    "\n",
    "df_val.pop('Survived')\n",
    "X_val = df_val"
   ]
  },
  {
   "cell_type": "code",
   "execution_count": 27,
   "id": "f9f90dcd",
   "metadata": {
    "papermill": {
     "duration": 0.043299,
     "end_time": "2022-02-26T03:35:09.920754",
     "exception": false,
     "start_time": "2022-02-26T03:35:09.877455",
     "status": "completed"
    },
    "tags": []
   },
   "outputs": [],
   "source": [
    "# version for cross vaildate\n",
    "y = df_train_and_test.pop('Survived')\n",
    "X = df_train_and_test"
   ]
  },
  {
   "cell_type": "markdown",
   "id": "23f0f774",
   "metadata": {
    "papermill": {
     "duration": 0.035384,
     "end_time": "2022-02-26T03:35:09.991781",
     "exception": false,
     "start_time": "2022-02-26T03:35:09.956397",
     "status": "completed"
    },
    "tags": []
   },
   "source": [
    "[Back to top](#zero-bullet)"
   ]
  },
  {
   "cell_type": "markdown",
   "id": "8e7c3edd",
   "metadata": {
    "papermill": {
     "duration": 0.037077,
     "end_time": "2022-02-26T03:35:10.066888",
     "exception": false,
     "start_time": "2022-02-26T03:35:10.029811",
     "status": "completed"
    },
    "tags": []
   },
   "source": [
    "## Modeling <a class=\"anchor\" id=\"fourth-bullet\"></a>"
   ]
  },
  {
   "cell_type": "markdown",
   "id": "969ee4c9",
   "metadata": {
    "papermill": {
     "duration": 0.036715,
     "end_time": "2022-02-26T03:35:10.139261",
     "exception": false,
     "start_time": "2022-02-26T03:35:10.102546",
     "status": "completed"
    },
    "tags": []
   },
   "source": [
    "### Decision Tree Classifier <a class=\"anchor\" id=\"fifth-bullet\"></a>"
   ]
  },
  {
   "cell_type": "code",
   "execution_count": 28,
   "id": "6c643b19",
   "metadata": {
    "papermill": {
     "duration": 4.137599,
     "end_time": "2022-02-26T03:35:14.312324",
     "exception": false,
     "start_time": "2022-02-26T03:35:10.174725",
     "status": "completed"
    },
    "tags": []
   },
   "outputs": [
    {
     "name": "stdout",
     "output_type": "stream",
     "text": [
      "Fitting 5 folds for each of 48 candidates, totalling 240 fits\n"
     ]
    },
    {
     "data": {
      "text/plain": [
       "GridSearchCV(cv=5, estimator=DecisionTreeClassifier(), n_jobs=-1,\n",
       "             param_grid={'criterion': ['entropy', 'gini'],\n",
       "                         'max_depth': range(10, 16),\n",
       "                         'min_samples_leaf': range(5, 9)},\n",
       "             verbose=1)"
      ]
     },
     "execution_count": 28,
     "metadata": {},
     "output_type": "execute_result"
    }
   ],
   "source": [
    "from sklearn.tree import DecisionTreeClassifier\n",
    "from sklearn.model_selection import cross_validate\n",
    "from sklearn import svm, datasets\n",
    "# now you can import normally from model_selection\n",
    "from sklearn.model_selection import GridSearchCV\n",
    "\n",
    "tree_param = {\n",
    "    \"criterion\": ['entropy', 'gini'],\n",
    "    \"max_depth\": range(10, 16),\n",
    "    \"min_samples_leaf\": range(5,9)\n",
    "}\n",
    "\n",
    "# Create Decision Tree classifer object\n",
    "clf = DecisionTreeClassifier()\n",
    "\n",
    "# Train Decision Tree Classifer\n",
    "#clf = clf.fit(X_train,y_train)\n",
    "\n",
    "# Predict the response for test dataset\n",
    "#y_pred = clf.predict(X_test)\n",
    "\n",
    "# Create Grid search with cross validate\n",
    "#cv_results = cross_validate(clf, X, y, cv=5)\n",
    "\n",
    "grid = GridSearchCV(clf, param_grid=tree_param, cv=5, verbose=1, n_jobs=-1)\n",
    "\n",
    "grid.fit(X,y)"
   ]
  },
  {
   "cell_type": "code",
   "execution_count": 29,
   "id": "92ac305c",
   "metadata": {
    "papermill": {
     "duration": 0.065415,
     "end_time": "2022-02-26T03:35:14.415517",
     "exception": false,
     "start_time": "2022-02-26T03:35:14.350102",
     "status": "completed"
    },
    "tags": []
   },
   "outputs": [
    {
     "name": "stdout",
     "output_type": "stream",
     "text": [
      "mean_fit_time              0.010948\n",
      "std_fit_time               0.001998\n",
      "mean_score_time            0.005665\n",
      "std_score_time             0.001147\n",
      "param_max_depth           12.500000\n",
      "param_min_samples_leaf     6.500000\n",
      "split0_test_score          0.774092\n",
      "split1_test_score          0.786751\n",
      "split2_test_score          0.840707\n",
      "split3_test_score          0.801615\n",
      "split4_test_score          0.863179\n",
      "mean_test_score            0.813269\n",
      "std_test_score             0.034588\n",
      "rank_test_score           23.270833\n",
      "dtype: float64\n",
      "--------------\n",
      "\n",
      "   mean_fit_time  std_fit_time  mean_score_time  std_score_time  \\\n",
      "0       0.023221      0.005457         0.008403        0.001019   \n",
      "1       0.022005      0.004515         0.008999        0.002529   \n",
      "2       0.017597      0.001356         0.008601        0.001497   \n",
      "3       0.014603      0.001014         0.006801        0.000399   \n",
      "4       0.014604      0.000495         0.007600        0.001021   \n",
      "\n",
      "  param_criterion param_max_depth param_min_samples_leaf  \\\n",
      "0         entropy              10                      5   \n",
      "1         entropy              10                      6   \n",
      "2         entropy              10                      7   \n",
      "3         entropy              10                      8   \n",
      "4         entropy              11                      5   \n",
      "\n",
      "                                              params  split0_test_score  \\\n",
      "0  {'criterion': 'entropy', 'max_depth': 10, 'min...           0.770950   \n",
      "1  {'criterion': 'entropy', 'max_depth': 10, 'min...           0.776536   \n",
      "2  {'criterion': 'entropy', 'max_depth': 10, 'min...           0.782123   \n",
      "3  {'criterion': 'entropy', 'max_depth': 10, 'min...           0.770950   \n",
      "4  {'criterion': 'entropy', 'max_depth': 11, 'min...           0.765363   \n",
      "\n",
      "   split1_test_score  split2_test_score  split3_test_score  split4_test_score  \\\n",
      "0           0.803371           0.837079           0.797753           0.853933   \n",
      "1           0.797753           0.853933           0.797753           0.876404   \n",
      "2           0.792135           0.842697           0.792135           0.870787   \n",
      "3           0.758427           0.820225           0.797753           0.842697   \n",
      "4           0.803371           0.853933           0.803371           0.853933   \n",
      "\n",
      "   mean_test_score  std_test_score  rank_test_score  \n",
      "0         0.812617        0.029489               32  \n",
      "1         0.820476        0.037976                7  \n",
      "2         0.815975        0.034644               24  \n",
      "3         0.798010        0.030950               43  \n",
      "4         0.815994        0.033944               21  \n"
     ]
    },
    {
     "name": "stderr",
     "output_type": "stream",
     "text": [
      "C:\\Users\\barto\\.conda\\envs\\musicai\\lib\\site-packages\\ipykernel_launcher.py:1: FutureWarning: Dropping of nuisance columns in DataFrame reductions (with 'numeric_only=None') is deprecated; in a future version this will raise TypeError.  Select only valid columns before calling the reduction.\n",
      "  \"\"\"Entry point for launching an IPython kernel.\n"
     ]
    }
   ],
   "source": [
    "print(pd.DataFrame(grid.cv_results_).mean())\n",
    "print('--------------\\n')\n",
    "print(pd.DataFrame(grid.cv_results_).head())"
   ]
  },
  {
   "cell_type": "code",
   "execution_count": 30,
   "id": "a698de5b",
   "metadata": {
    "papermill": {
     "duration": 0.054125,
     "end_time": "2022-02-26T03:35:14.510275",
     "exception": false,
     "start_time": "2022-02-26T03:35:14.456150",
     "status": "completed"
    },
    "tags": []
   },
   "outputs": [
    {
     "name": "stdout",
     "output_type": "stream",
     "text": [
      "mean_fit_time              0.010948\n",
      "std_fit_time               0.001998\n",
      "mean_score_time            0.005665\n",
      "std_score_time             0.001147\n",
      "param_max_depth           12.500000\n",
      "param_min_samples_leaf     6.500000\n",
      "split0_test_score          0.774092\n",
      "split1_test_score          0.786751\n",
      "split2_test_score          0.840707\n",
      "split3_test_score          0.801615\n",
      "split4_test_score          0.863179\n",
      "mean_test_score            0.813269\n",
      "std_test_score             0.034588\n",
      "rank_test_score           23.270833\n",
      "dtype: float64\n",
      "--------------\n",
      "\n",
      "best parameters: {'criterion': 'entropy', 'max_depth': 13, 'min_samples_leaf': 6}\n"
     ]
    },
    {
     "name": "stderr",
     "output_type": "stream",
     "text": [
      "C:\\Users\\barto\\.conda\\envs\\musicai\\lib\\site-packages\\ipykernel_launcher.py:1: FutureWarning: Dropping of nuisance columns in DataFrame reductions (with 'numeric_only=None') is deprecated; in a future version this will raise TypeError.  Select only valid columns before calling the reduction.\n",
      "  \"\"\"Entry point for launching an IPython kernel.\n"
     ]
    }
   ],
   "source": [
    "print(pd.DataFrame(grid.cv_results_).mean())\n",
    "print('--------------\\n')\n",
    "print('best parameters:', grid.best_params_)"
   ]
  },
  {
   "cell_type": "code",
   "execution_count": 31,
   "id": "34e07fef",
   "metadata": {
    "papermill": {
     "duration": 0.075837,
     "end_time": "2022-02-26T03:35:14.627275",
     "exception": false,
     "start_time": "2022-02-26T03:35:14.551438",
     "status": "completed"
    },
    "tags": []
   },
   "outputs": [
    {
     "name": "stdout",
     "output_type": "stream",
     "text": [
      "The best score result is 0.826093779423765\n"
     ]
    },
    {
     "data": {
      "text/html": [
       "<div>\n",
       "<style scoped>\n",
       "    .dataframe tbody tr th:only-of-type {\n",
       "        vertical-align: middle;\n",
       "    }\n",
       "\n",
       "    .dataframe tbody tr th {\n",
       "        vertical-align: top;\n",
       "    }\n",
       "\n",
       "    .dataframe thead th {\n",
       "        text-align: right;\n",
       "    }\n",
       "</style>\n",
       "<table border=\"1\" class=\"dataframe\">\n",
       "  <thead>\n",
       "    <tr style=\"text-align: right;\">\n",
       "      <th></th>\n",
       "      <th>param_criterion</th>\n",
       "      <th>param_max_depth</th>\n",
       "      <th>param_min_samples_leaf</th>\n",
       "      <th>mean_test_score</th>\n",
       "      <th>std_test_score</th>\n",
       "      <th>rank_test_score</th>\n",
       "    </tr>\n",
       "  </thead>\n",
       "  <tbody>\n",
       "    <tr>\n",
       "      <th>13</th>\n",
       "      <td>entropy</td>\n",
       "      <td>13</td>\n",
       "      <td>6</td>\n",
       "      <td>0.826094</td>\n",
       "      <td>0.038598</td>\n",
       "      <td>1</td>\n",
       "    </tr>\n",
       "    <tr>\n",
       "      <th>5</th>\n",
       "      <td>entropy</td>\n",
       "      <td>11</td>\n",
       "      <td>6</td>\n",
       "      <td>0.823847</td>\n",
       "      <td>0.036530</td>\n",
       "      <td>2</td>\n",
       "    </tr>\n",
       "    <tr>\n",
       "      <th>29</th>\n",
       "      <td>gini</td>\n",
       "      <td>11</td>\n",
       "      <td>6</td>\n",
       "      <td>0.822723</td>\n",
       "      <td>0.035486</td>\n",
       "      <td>3</td>\n",
       "    </tr>\n",
       "    <tr>\n",
       "      <th>25</th>\n",
       "      <td>gini</td>\n",
       "      <td>10</td>\n",
       "      <td>6</td>\n",
       "      <td>0.822723</td>\n",
       "      <td>0.035486</td>\n",
       "      <td>3</td>\n",
       "    </tr>\n",
       "    <tr>\n",
       "      <th>45</th>\n",
       "      <td>gini</td>\n",
       "      <td>15</td>\n",
       "      <td>6</td>\n",
       "      <td>0.822723</td>\n",
       "      <td>0.035486</td>\n",
       "      <td>3</td>\n",
       "    </tr>\n",
       "    <tr>\n",
       "      <th>37</th>\n",
       "      <td>gini</td>\n",
       "      <td>13</td>\n",
       "      <td>6</td>\n",
       "      <td>0.821599</td>\n",
       "      <td>0.036163</td>\n",
       "      <td>6</td>\n",
       "    </tr>\n",
       "    <tr>\n",
       "      <th>17</th>\n",
       "      <td>entropy</td>\n",
       "      <td>14</td>\n",
       "      <td>6</td>\n",
       "      <td>0.820476</td>\n",
       "      <td>0.037976</td>\n",
       "      <td>7</td>\n",
       "    </tr>\n",
       "    <tr>\n",
       "      <th>1</th>\n",
       "      <td>entropy</td>\n",
       "      <td>10</td>\n",
       "      <td>6</td>\n",
       "      <td>0.820476</td>\n",
       "      <td>0.037976</td>\n",
       "      <td>7</td>\n",
       "    </tr>\n",
       "    <tr>\n",
       "      <th>21</th>\n",
       "      <td>entropy</td>\n",
       "      <td>15</td>\n",
       "      <td>6</td>\n",
       "      <td>0.820476</td>\n",
       "      <td>0.034308</td>\n",
       "      <td>7</td>\n",
       "    </tr>\n",
       "    <tr>\n",
       "      <th>16</th>\n",
       "      <td>entropy</td>\n",
       "      <td>14</td>\n",
       "      <td>5</td>\n",
       "      <td>0.819365</td>\n",
       "      <td>0.032394</td>\n",
       "      <td>10</td>\n",
       "    </tr>\n",
       "    <tr>\n",
       "      <th>41</th>\n",
       "      <td>gini</td>\n",
       "      <td>14</td>\n",
       "      <td>6</td>\n",
       "      <td>0.819352</td>\n",
       "      <td>0.036870</td>\n",
       "      <td>11</td>\n",
       "    </tr>\n",
       "    <tr>\n",
       "      <th>42</th>\n",
       "      <td>gini</td>\n",
       "      <td>14</td>\n",
       "      <td>7</td>\n",
       "      <td>0.819346</td>\n",
       "      <td>0.038258</td>\n",
       "      <td>12</td>\n",
       "    </tr>\n",
       "    <tr>\n",
       "      <th>26</th>\n",
       "      <td>gini</td>\n",
       "      <td>10</td>\n",
       "      <td>7</td>\n",
       "      <td>0.819346</td>\n",
       "      <td>0.038258</td>\n",
       "      <td>12</td>\n",
       "    </tr>\n",
       "    <tr>\n",
       "      <th>30</th>\n",
       "      <td>gini</td>\n",
       "      <td>11</td>\n",
       "      <td>7</td>\n",
       "      <td>0.819346</td>\n",
       "      <td>0.038258</td>\n",
       "      <td>12</td>\n",
       "    </tr>\n",
       "    <tr>\n",
       "      <th>34</th>\n",
       "      <td>gini</td>\n",
       "      <td>12</td>\n",
       "      <td>7</td>\n",
       "      <td>0.819346</td>\n",
       "      <td>0.038258</td>\n",
       "      <td>12</td>\n",
       "    </tr>\n",
       "    <tr>\n",
       "      <th>38</th>\n",
       "      <td>gini</td>\n",
       "      <td>13</td>\n",
       "      <td>7</td>\n",
       "      <td>0.819346</td>\n",
       "      <td>0.038258</td>\n",
       "      <td>12</td>\n",
       "    </tr>\n",
       "    <tr>\n",
       "      <th>46</th>\n",
       "      <td>gini</td>\n",
       "      <td>15</td>\n",
       "      <td>7</td>\n",
       "      <td>0.819346</td>\n",
       "      <td>0.038258</td>\n",
       "      <td>12</td>\n",
       "    </tr>\n",
       "    <tr>\n",
       "      <th>9</th>\n",
       "      <td>entropy</td>\n",
       "      <td>12</td>\n",
       "      <td>6</td>\n",
       "      <td>0.818229</td>\n",
       "      <td>0.036221</td>\n",
       "      <td>18</td>\n",
       "    </tr>\n",
       "    <tr>\n",
       "      <th>33</th>\n",
       "      <td>gini</td>\n",
       "      <td>12</td>\n",
       "      <td>6</td>\n",
       "      <td>0.818229</td>\n",
       "      <td>0.037421</td>\n",
       "      <td>18</td>\n",
       "    </tr>\n",
       "    <tr>\n",
       "      <th>12</th>\n",
       "      <td>entropy</td>\n",
       "      <td>13</td>\n",
       "      <td>5</td>\n",
       "      <td>0.817118</td>\n",
       "      <td>0.031263</td>\n",
       "      <td>20</td>\n",
       "    </tr>\n",
       "    <tr>\n",
       "      <th>32</th>\n",
       "      <td>gini</td>\n",
       "      <td>12</td>\n",
       "      <td>5</td>\n",
       "      <td>0.815994</td>\n",
       "      <td>0.036799</td>\n",
       "      <td>21</td>\n",
       "    </tr>\n",
       "    <tr>\n",
       "      <th>4</th>\n",
       "      <td>entropy</td>\n",
       "      <td>11</td>\n",
       "      <td>5</td>\n",
       "      <td>0.815994</td>\n",
       "      <td>0.033944</td>\n",
       "      <td>21</td>\n",
       "    </tr>\n",
       "    <tr>\n",
       "      <th>8</th>\n",
       "      <td>entropy</td>\n",
       "      <td>12</td>\n",
       "      <td>5</td>\n",
       "      <td>0.815994</td>\n",
       "      <td>0.032422</td>\n",
       "      <td>21</td>\n",
       "    </tr>\n",
       "    <tr>\n",
       "      <th>6</th>\n",
       "      <td>entropy</td>\n",
       "      <td>11</td>\n",
       "      <td>7</td>\n",
       "      <td>0.815975</td>\n",
       "      <td>0.034644</td>\n",
       "      <td>24</td>\n",
       "    </tr>\n",
       "    <tr>\n",
       "      <th>2</th>\n",
       "      <td>entropy</td>\n",
       "      <td>10</td>\n",
       "      <td>7</td>\n",
       "      <td>0.815975</td>\n",
       "      <td>0.034644</td>\n",
       "      <td>24</td>\n",
       "    </tr>\n",
       "    <tr>\n",
       "      <th>20</th>\n",
       "      <td>entropy</td>\n",
       "      <td>15</td>\n",
       "      <td>5</td>\n",
       "      <td>0.814870</td>\n",
       "      <td>0.032741</td>\n",
       "      <td>26</td>\n",
       "    </tr>\n",
       "    <tr>\n",
       "      <th>10</th>\n",
       "      <td>entropy</td>\n",
       "      <td>12</td>\n",
       "      <td>7</td>\n",
       "      <td>0.814852</td>\n",
       "      <td>0.035480</td>\n",
       "      <td>27</td>\n",
       "    </tr>\n",
       "    <tr>\n",
       "      <th>22</th>\n",
       "      <td>entropy</td>\n",
       "      <td>15</td>\n",
       "      <td>7</td>\n",
       "      <td>0.814852</td>\n",
       "      <td>0.033841</td>\n",
       "      <td>27</td>\n",
       "    </tr>\n",
       "    <tr>\n",
       "      <th>14</th>\n",
       "      <td>entropy</td>\n",
       "      <td>13</td>\n",
       "      <td>7</td>\n",
       "      <td>0.814852</td>\n",
       "      <td>0.033841</td>\n",
       "      <td>27</td>\n",
       "    </tr>\n",
       "    <tr>\n",
       "      <th>24</th>\n",
       "      <td>gini</td>\n",
       "      <td>10</td>\n",
       "      <td>5</td>\n",
       "      <td>0.813734</td>\n",
       "      <td>0.035514</td>\n",
       "      <td>30</td>\n",
       "    </tr>\n",
       "    <tr>\n",
       "      <th>18</th>\n",
       "      <td>entropy</td>\n",
       "      <td>14</td>\n",
       "      <td>7</td>\n",
       "      <td>0.813728</td>\n",
       "      <td>0.034660</td>\n",
       "      <td>31</td>\n",
       "    </tr>\n",
       "    <tr>\n",
       "      <th>0</th>\n",
       "      <td>entropy</td>\n",
       "      <td>10</td>\n",
       "      <td>5</td>\n",
       "      <td>0.812617</td>\n",
       "      <td>0.029489</td>\n",
       "      <td>32</td>\n",
       "    </tr>\n",
       "    <tr>\n",
       "      <th>28</th>\n",
       "      <td>gini</td>\n",
       "      <td>11</td>\n",
       "      <td>5</td>\n",
       "      <td>0.811500</td>\n",
       "      <td>0.036865</td>\n",
       "      <td>33</td>\n",
       "    </tr>\n",
       "    <tr>\n",
       "      <th>44</th>\n",
       "      <td>gini</td>\n",
       "      <td>15</td>\n",
       "      <td>5</td>\n",
       "      <td>0.810376</td>\n",
       "      <td>0.034172</td>\n",
       "      <td>34</td>\n",
       "    </tr>\n",
       "    <tr>\n",
       "      <th>36</th>\n",
       "      <td>gini</td>\n",
       "      <td>13</td>\n",
       "      <td>5</td>\n",
       "      <td>0.809252</td>\n",
       "      <td>0.036434</td>\n",
       "      <td>35</td>\n",
       "    </tr>\n",
       "    <tr>\n",
       "      <th>40</th>\n",
       "      <td>gini</td>\n",
       "      <td>14</td>\n",
       "      <td>5</td>\n",
       "      <td>0.807005</td>\n",
       "      <td>0.037068</td>\n",
       "      <td>36</td>\n",
       "    </tr>\n",
       "    <tr>\n",
       "      <th>39</th>\n",
       "      <td>gini</td>\n",
       "      <td>13</td>\n",
       "      <td>8</td>\n",
       "      <td>0.803628</td>\n",
       "      <td>0.031710</td>\n",
       "      <td>37</td>\n",
       "    </tr>\n",
       "    <tr>\n",
       "      <th>43</th>\n",
       "      <td>gini</td>\n",
       "      <td>14</td>\n",
       "      <td>8</td>\n",
       "      <td>0.803628</td>\n",
       "      <td>0.031710</td>\n",
       "      <td>37</td>\n",
       "    </tr>\n",
       "    <tr>\n",
       "      <th>47</th>\n",
       "      <td>gini</td>\n",
       "      <td>15</td>\n",
       "      <td>8</td>\n",
       "      <td>0.803628</td>\n",
       "      <td>0.031710</td>\n",
       "      <td>37</td>\n",
       "    </tr>\n",
       "    <tr>\n",
       "      <th>31</th>\n",
       "      <td>gini</td>\n",
       "      <td>11</td>\n",
       "      <td>8</td>\n",
       "      <td>0.803628</td>\n",
       "      <td>0.031710</td>\n",
       "      <td>37</td>\n",
       "    </tr>\n",
       "    <tr>\n",
       "      <th>27</th>\n",
       "      <td>gini</td>\n",
       "      <td>10</td>\n",
       "      <td>8</td>\n",
       "      <td>0.803628</td>\n",
       "      <td>0.031710</td>\n",
       "      <td>37</td>\n",
       "    </tr>\n",
       "    <tr>\n",
       "      <th>35</th>\n",
       "      <td>gini</td>\n",
       "      <td>12</td>\n",
       "      <td>8</td>\n",
       "      <td>0.803628</td>\n",
       "      <td>0.031710</td>\n",
       "      <td>37</td>\n",
       "    </tr>\n",
       "    <tr>\n",
       "      <th>19</th>\n",
       "      <td>entropy</td>\n",
       "      <td>14</td>\n",
       "      <td>8</td>\n",
       "      <td>0.798010</td>\n",
       "      <td>0.030950</td>\n",
       "      <td>43</td>\n",
       "    </tr>\n",
       "    <tr>\n",
       "      <th>15</th>\n",
       "      <td>entropy</td>\n",
       "      <td>13</td>\n",
       "      <td>8</td>\n",
       "      <td>0.798010</td>\n",
       "      <td>0.030950</td>\n",
       "      <td>43</td>\n",
       "    </tr>\n",
       "    <tr>\n",
       "      <th>11</th>\n",
       "      <td>entropy</td>\n",
       "      <td>12</td>\n",
       "      <td>8</td>\n",
       "      <td>0.798010</td>\n",
       "      <td>0.030950</td>\n",
       "      <td>43</td>\n",
       "    </tr>\n",
       "    <tr>\n",
       "      <th>7</th>\n",
       "      <td>entropy</td>\n",
       "      <td>11</td>\n",
       "      <td>8</td>\n",
       "      <td>0.798010</td>\n",
       "      <td>0.030950</td>\n",
       "      <td>43</td>\n",
       "    </tr>\n",
       "    <tr>\n",
       "      <th>3</th>\n",
       "      <td>entropy</td>\n",
       "      <td>10</td>\n",
       "      <td>8</td>\n",
       "      <td>0.798010</td>\n",
       "      <td>0.030950</td>\n",
       "      <td>43</td>\n",
       "    </tr>\n",
       "    <tr>\n",
       "      <th>23</th>\n",
       "      <td>entropy</td>\n",
       "      <td>15</td>\n",
       "      <td>8</td>\n",
       "      <td>0.798010</td>\n",
       "      <td>0.030950</td>\n",
       "      <td>43</td>\n",
       "    </tr>\n",
       "  </tbody>\n",
       "</table>\n",
       "</div>"
      ],
      "text/plain": [
       "   param_criterion param_max_depth param_min_samples_leaf  mean_test_score  \\\n",
       "13         entropy              13                      6         0.826094   \n",
       "5          entropy              11                      6         0.823847   \n",
       "29            gini              11                      6         0.822723   \n",
       "25            gini              10                      6         0.822723   \n",
       "45            gini              15                      6         0.822723   \n",
       "37            gini              13                      6         0.821599   \n",
       "17         entropy              14                      6         0.820476   \n",
       "1          entropy              10                      6         0.820476   \n",
       "21         entropy              15                      6         0.820476   \n",
       "16         entropy              14                      5         0.819365   \n",
       "41            gini              14                      6         0.819352   \n",
       "42            gini              14                      7         0.819346   \n",
       "26            gini              10                      7         0.819346   \n",
       "30            gini              11                      7         0.819346   \n",
       "34            gini              12                      7         0.819346   \n",
       "38            gini              13                      7         0.819346   \n",
       "46            gini              15                      7         0.819346   \n",
       "9          entropy              12                      6         0.818229   \n",
       "33            gini              12                      6         0.818229   \n",
       "12         entropy              13                      5         0.817118   \n",
       "32            gini              12                      5         0.815994   \n",
       "4          entropy              11                      5         0.815994   \n",
       "8          entropy              12                      5         0.815994   \n",
       "6          entropy              11                      7         0.815975   \n",
       "2          entropy              10                      7         0.815975   \n",
       "20         entropy              15                      5         0.814870   \n",
       "10         entropy              12                      7         0.814852   \n",
       "22         entropy              15                      7         0.814852   \n",
       "14         entropy              13                      7         0.814852   \n",
       "24            gini              10                      5         0.813734   \n",
       "18         entropy              14                      7         0.813728   \n",
       "0          entropy              10                      5         0.812617   \n",
       "28            gini              11                      5         0.811500   \n",
       "44            gini              15                      5         0.810376   \n",
       "36            gini              13                      5         0.809252   \n",
       "40            gini              14                      5         0.807005   \n",
       "39            gini              13                      8         0.803628   \n",
       "43            gini              14                      8         0.803628   \n",
       "47            gini              15                      8         0.803628   \n",
       "31            gini              11                      8         0.803628   \n",
       "27            gini              10                      8         0.803628   \n",
       "35            gini              12                      8         0.803628   \n",
       "19         entropy              14                      8         0.798010   \n",
       "15         entropy              13                      8         0.798010   \n",
       "11         entropy              12                      8         0.798010   \n",
       "7          entropy              11                      8         0.798010   \n",
       "3          entropy              10                      8         0.798010   \n",
       "23         entropy              15                      8         0.798010   \n",
       "\n",
       "    std_test_score  rank_test_score  \n",
       "13        0.038598                1  \n",
       "5         0.036530                2  \n",
       "29        0.035486                3  \n",
       "25        0.035486                3  \n",
       "45        0.035486                3  \n",
       "37        0.036163                6  \n",
       "17        0.037976                7  \n",
       "1         0.037976                7  \n",
       "21        0.034308                7  \n",
       "16        0.032394               10  \n",
       "41        0.036870               11  \n",
       "42        0.038258               12  \n",
       "26        0.038258               12  \n",
       "30        0.038258               12  \n",
       "34        0.038258               12  \n",
       "38        0.038258               12  \n",
       "46        0.038258               12  \n",
       "9         0.036221               18  \n",
       "33        0.037421               18  \n",
       "12        0.031263               20  \n",
       "32        0.036799               21  \n",
       "4         0.033944               21  \n",
       "8         0.032422               21  \n",
       "6         0.034644               24  \n",
       "2         0.034644               24  \n",
       "20        0.032741               26  \n",
       "10        0.035480               27  \n",
       "22        0.033841               27  \n",
       "14        0.033841               27  \n",
       "24        0.035514               30  \n",
       "18        0.034660               31  \n",
       "0         0.029489               32  \n",
       "28        0.036865               33  \n",
       "44        0.034172               34  \n",
       "36        0.036434               35  \n",
       "40        0.037068               36  \n",
       "39        0.031710               37  \n",
       "43        0.031710               37  \n",
       "47        0.031710               37  \n",
       "31        0.031710               37  \n",
       "27        0.031710               37  \n",
       "35        0.031710               37  \n",
       "19        0.030950               43  \n",
       "15        0.030950               43  \n",
       "11        0.030950               43  \n",
       "7         0.030950               43  \n",
       "3         0.030950               43  \n",
       "23        0.030950               43  "
      ]
     },
     "execution_count": 31,
     "metadata": {},
     "output_type": "execute_result"
    }
   ],
   "source": [
    "#print('The best etimator score result is', grid.best_estimator_.score(X, y))\n",
    "# Best result considering the average value of the crossing value:\n",
    "print('The best score result is', grid.best_score_)\n",
    "\n",
    "results = pd.DataFrame(grid.cv_results_)\n",
    "results = results.iloc[:,4:]\n",
    "results = results.drop(['params','split0_test_score','split1_test_score','split2_test_score','split3_test_score','split4_test_score'], axis=1)\n",
    "results = results.sort_values(by='rank_test_score')\n",
    "results"
   ]
  },
  {
   "cell_type": "code",
   "execution_count": 33,
   "id": "2e30f946",
   "metadata": {
    "papermill": {
     "duration": 0.260235,
     "end_time": "2022-02-26T03:35:14.930701",
     "exception": false,
     "start_time": "2022-02-26T03:35:14.670466",
     "status": "completed"
    },
    "tags": []
   },
   "outputs": [
    {
     "data": {
      "image/png": "[encoded data removed]",
      "text/plain": [
       "<Figure size 432x288 with 2 Axes>"
      ]
     },
     "metadata": {
      "needs_background": "light"
     },
     "output_type": "display_data"
    }
   ],
   "source": [
    "import matplotlib.pyplot as plt\n",
    "from sklearn.metrics import ConfusionMatrixDisplay\n",
    "\n",
    "ConfusionMatrixDisplay.from_estimator(grid, X, y)\n",
    "plt.show()\n",
    "\n",
    "# from sklearn.metrics import plot_confusion_matrix\n",
    "\n",
    "# plot_confusion_matrix(grid, X, y)\n",
    "# plt.show()"
   ]
  },
  {
   "cell_type": "code",
   "execution_count": 34,
   "id": "0eebf015",
   "metadata": {
    "papermill": {
     "duration": 6.67458,
     "end_time": "2022-02-26T03:35:21.646659",
     "exception": false,
     "start_time": "2022-02-26T03:35:14.972079",
     "status": "completed"
    },
    "tags": []
   },
   "outputs": [
    {
     "data": {
      "image/png": "[encoded data removed]",
      "text/plain": [
       "<Figure size 2160x720 with 1 Axes>"
      ]
     },
     "metadata": {
      "needs_background": "light"
     },
     "output_type": "display_data"
    }
   ],
   "source": [
    "from sklearn import tree\n",
    "fig, ax = plt.subplots(figsize=(30,10))\n",
    "tree.plot_tree(grid.best_estimator_, ax=ax, fontsize=10, feature_names=df_train.columns)\n",
    "plt.show()"
   ]
  },
  {
   "cell_type": "markdown",
   "id": "1406a7fb",
   "metadata": {
    "papermill": {
     "duration": 0.047606,
     "end_time": "2022-02-26T03:35:21.742927",
     "exception": false,
     "start_time": "2022-02-26T03:35:21.695321",
     "status": "completed"
    },
    "tags": []
   },
   "source": [
    "### Random Forest Classifier <a class=\"anchor\" id=\"sixth-bullet\"></a>\n",
    "In this case, I'm using randomized search instead of grid search like in the case with Decision tree."
   ]
  },
  {
   "cell_type": "code",
   "execution_count": 35,
   "id": "08fd7352",
   "metadata": {
    "papermill": {
     "duration": 31.074161,
     "end_time": "2022-02-26T03:35:52.864440",
     "exception": false,
     "start_time": "2022-02-26T03:35:21.790279",
     "status": "completed"
    },
    "tags": []
   },
   "outputs": [
    {
     "name": "stdout",
     "output_type": "stream",
     "text": [
      "Optimal hyperparameter combination: {'min_samples_leaf': 6, 'max_depth': 14, 'criterion': 'entropy'}\n",
      "\n",
      "Mean cross-validated training accuracy score: 0.8283346933651371\n"
     ]
    }
   ],
   "source": [
    "from sklearn.ensemble import RandomForestClassifier\n",
    "from sklearn.model_selection import cross_validate\n",
    "from sklearn import svm, datasets\n",
    "from sklearn.model_selection import RandomizedSearchCV\n",
    "\n",
    "forest_param = {\n",
    "    \"criterion\": ['entropy', 'gini'],\n",
    "    \"max_depth\": range(10, 16),\n",
    "    \"min_samples_leaf\":range(5, 15),\n",
    "}\n",
    "\n",
    "rfc = RandomForestClassifier()\n",
    "\n",
    "rs = RandomizedSearchCV(rfc, param_distributions=forest_param, cv=5, n_iter=70, random_state=0, n_jobs=-1)\n",
    "rs.fit(X, y)\n",
    "\n",
    "print(\"Optimal hyperparameter combination:\", rs.best_params_)\n",
    "print()\n",
    "print(\"Mean cross-validated training accuracy score:\", rs.best_score_)"
   ]
  },
  {
   "cell_type": "code",
   "execution_count": 36,
   "id": "54fd93d5",
   "metadata": {
    "papermill": {
     "duration": 0.063061,
     "end_time": "2022-02-26T03:35:52.977693",
     "exception": false,
     "start_time": "2022-02-26T03:35:52.914632",
     "status": "completed"
    },
    "tags": []
   },
   "outputs": [
    {
     "name": "stdout",
     "output_type": "stream",
     "text": [
      "mean_fit_time              0.684572\n",
      "std_fit_time               0.094672\n",
      "mean_score_time            0.068814\n",
      "std_score_time             0.015236\n",
      "param_min_samples_leaf     9.142857\n",
      "param_max_depth           12.385714\n",
      "split0_test_score          0.786991\n",
      "split1_test_score          0.816051\n",
      "split2_test_score          0.857464\n",
      "split3_test_score          0.796469\n",
      "split4_test_score          0.833226\n",
      "mean_test_score            0.818040\n",
      "std_test_score             0.026667\n",
      "rank_test_score           35.385714\n",
      "dtype: float64\n",
      "-----\n",
      "best random search parameters: {'min_samples_leaf': 6, 'max_depth': 14, 'criterion': 'entropy'}\n"
     ]
    },
    {
     "name": "stderr",
     "output_type": "stream",
     "text": [
      "C:\\Users\\barto\\.conda\\envs\\musicai\\lib\\site-packages\\ipykernel_launcher.py:1: FutureWarning: Dropping of nuisance columns in DataFrame reductions (with 'numeric_only=None') is deprecated; in a future version this will raise TypeError.  Select only valid columns before calling the reduction.\n",
      "  \"\"\"Entry point for launching an IPython kernel.\n"
     ]
    }
   ],
   "source": [
    "print(pd.DataFrame(rs.cv_results_).mean())\n",
    "print('-----')\n",
    "print('best random search parameters:', rs.best_params_)"
   ]
  },
  {
   "cell_type": "code",
   "execution_count": 37,
   "id": "9ea975d7",
   "metadata": {
    "papermill": {
     "duration": 0.075178,
     "end_time": "2022-02-26T03:35:53.103790",
     "exception": false,
     "start_time": "2022-02-26T03:35:53.028612",
     "status": "completed"
    },
    "tags": []
   },
   "outputs": [
    {
     "name": "stdout",
     "output_type": "stream",
     "text": [
      "The best score result is 0.8283346933651371\n"
     ]
    },
    {
     "data": {
      "text/html": [
       "<div>\n",
       "<style scoped>\n",
       "    .dataframe tbody tr th:only-of-type {\n",
       "        vertical-align: middle;\n",
       "    }\n",
       "\n",
       "    .dataframe tbody tr th {\n",
       "        vertical-align: top;\n",
       "    }\n",
       "\n",
       "    .dataframe thead th {\n",
       "        text-align: right;\n",
       "    }\n",
       "</style>\n",
       "<table border=\"1\" class=\"dataframe\">\n",
       "  <thead>\n",
       "    <tr style=\"text-align: right;\">\n",
       "      <th></th>\n",
       "      <th>param_min_samples_leaf</th>\n",
       "      <th>param_max_depth</th>\n",
       "      <th>param_criterion</th>\n",
       "      <th>mean_test_score</th>\n",
       "      <th>std_test_score</th>\n",
       "      <th>rank_test_score</th>\n",
       "    </tr>\n",
       "  </thead>\n",
       "  <tbody>\n",
       "    <tr>\n",
       "      <th>56</th>\n",
       "      <td>6</td>\n",
       "      <td>14</td>\n",
       "      <td>entropy</td>\n",
       "      <td>0.828335</td>\n",
       "      <td>0.036889</td>\n",
       "      <td>1</td>\n",
       "    </tr>\n",
       "    <tr>\n",
       "      <th>42</th>\n",
       "      <td>5</td>\n",
       "      <td>13</td>\n",
       "      <td>gini</td>\n",
       "      <td>0.828328</td>\n",
       "      <td>0.031987</td>\n",
       "      <td>2</td>\n",
       "    </tr>\n",
       "    <tr>\n",
       "      <th>18</th>\n",
       "      <td>6</td>\n",
       "      <td>15</td>\n",
       "      <td>gini</td>\n",
       "      <td>0.828316</td>\n",
       "      <td>0.022898</td>\n",
       "      <td>3</td>\n",
       "    </tr>\n",
       "    <tr>\n",
       "      <th>24</th>\n",
       "      <td>5</td>\n",
       "      <td>15</td>\n",
       "      <td>gini</td>\n",
       "      <td>0.828303</td>\n",
       "      <td>0.023291</td>\n",
       "      <td>4</td>\n",
       "    </tr>\n",
       "    <tr>\n",
       "      <th>25</th>\n",
       "      <td>8</td>\n",
       "      <td>11</td>\n",
       "      <td>entropy</td>\n",
       "      <td>0.828303</td>\n",
       "      <td>0.021894</td>\n",
       "      <td>4</td>\n",
       "    </tr>\n",
       "    <tr>\n",
       "      <th>...</th>\n",
       "      <td>...</td>\n",
       "      <td>...</td>\n",
       "      <td>...</td>\n",
       "      <td>...</td>\n",
       "      <td>...</td>\n",
       "      <td>...</td>\n",
       "    </tr>\n",
       "    <tr>\n",
       "      <th>4</th>\n",
       "      <td>12</td>\n",
       "      <td>13</td>\n",
       "      <td>gini</td>\n",
       "      <td>0.805900</td>\n",
       "      <td>0.039568</td>\n",
       "      <td>66</td>\n",
       "    </tr>\n",
       "    <tr>\n",
       "      <th>14</th>\n",
       "      <td>14</td>\n",
       "      <td>15</td>\n",
       "      <td>gini</td>\n",
       "      <td>0.804783</td>\n",
       "      <td>0.033997</td>\n",
       "      <td>67</td>\n",
       "    </tr>\n",
       "    <tr>\n",
       "      <th>51</th>\n",
       "      <td>13</td>\n",
       "      <td>13</td>\n",
       "      <td>gini</td>\n",
       "      <td>0.803685</td>\n",
       "      <td>0.046169</td>\n",
       "      <td>68</td>\n",
       "    </tr>\n",
       "    <tr>\n",
       "      <th>65</th>\n",
       "      <td>14</td>\n",
       "      <td>14</td>\n",
       "      <td>gini</td>\n",
       "      <td>0.802511</td>\n",
       "      <td>0.023789</td>\n",
       "      <td>69</td>\n",
       "    </tr>\n",
       "    <tr>\n",
       "      <th>45</th>\n",
       "      <td>13</td>\n",
       "      <td>11</td>\n",
       "      <td>entropy</td>\n",
       "      <td>0.801437</td>\n",
       "      <td>0.045717</td>\n",
       "      <td>70</td>\n",
       "    </tr>\n",
       "  </tbody>\n",
       "</table>\n",
       "<p>70 rows × 6 columns</p>\n",
       "</div>"
      ],
      "text/plain": [
       "   param_min_samples_leaf param_max_depth param_criterion  mean_test_score  \\\n",
       "56                      6              14         entropy         0.828335   \n",
       "42                      5              13            gini         0.828328   \n",
       "18                      6              15            gini         0.828316   \n",
       "24                      5              15            gini         0.828303   \n",
       "25                      8              11         entropy         0.828303   \n",
       "..                    ...             ...             ...              ...   \n",
       "4                      12              13            gini         0.805900   \n",
       "14                     14              15            gini         0.804783   \n",
       "51                     13              13            gini         0.803685   \n",
       "65                     14              14            gini         0.802511   \n",
       "45                     13              11         entropy         0.801437   \n",
       "\n",
       "    std_test_score  rank_test_score  \n",
       "56        0.036889                1  \n",
       "42        0.031987                2  \n",
       "18        0.022898                3  \n",
       "24        0.023291                4  \n",
       "25        0.021894                4  \n",
       "..             ...              ...  \n",
       "4         0.039568               66  \n",
       "14        0.033997               67  \n",
       "51        0.046169               68  \n",
       "65        0.023789               69  \n",
       "45        0.045717               70  \n",
       "\n",
       "[70 rows x 6 columns]"
      ]
     },
     "execution_count": 37,
     "metadata": {},
     "output_type": "execute_result"
    }
   ],
   "source": [
    "print('The best score result is', rs.best_score_)\n",
    "rfc_results = pd.DataFrame(rs.cv_results_)\n",
    "\n",
    "rfc_results = rfc_results.iloc[:,4:]\n",
    "rfc_results = rfc_results.drop(['params','split0_test_score','split1_test_score','split2_test_score','split3_test_score','split4_test_score'], axis=1)\n",
    "rfc_results = rfc_results.sort_values(by='rank_test_score')\n",
    "rfc_results"
   ]
  },
  {
   "cell_type": "code",
   "execution_count": 39,
   "id": "7b4b793e",
   "metadata": {
    "papermill": {
     "duration": 0.279528,
     "end_time": "2022-02-26T03:35:53.434684",
     "exception": false,
     "start_time": "2022-02-26T03:35:53.155156",
     "status": "completed"
    },
    "tags": []
   },
   "outputs": [
    {
     "data": {
      "image/png": "[encoded data removed]",
      "text/plain": [
       "<Figure size 432x288 with 2 Axes>"
      ]
     },
     "metadata": {
      "needs_background": "light"
     },
     "output_type": "display_data"
    }
   ],
   "source": [
    "import matplotlib.pyplot as plt\n",
    "from sklearn.metrics import ConfusionMatrixDisplay\n",
    "\n",
    "ConfusionMatrixDisplay.from_estimator(rs, X, y)\n",
    "plt.show()\n",
    "\n",
    "# from sklearn.metrics import plot_confusion_matrix\n",
    "\n",
    "# plot_confusion_matrix(grid, X, y)\n",
    "# plt.show()"
   ]
  },
  {
   "cell_type": "markdown",
   "id": "932aac20",
   "metadata": {
    "papermill": {
     "duration": 0.050227,
     "end_time": "2022-02-26T03:35:53.537773",
     "exception": false,
     "start_time": "2022-02-26T03:35:53.487546",
     "status": "completed"
    },
    "tags": []
   },
   "source": [
    "[Back to top](#zero-bullet)"
   ]
  },
  {
   "cell_type": "markdown",
   "id": "eec7169f",
   "metadata": {
    "papermill": {
     "duration": 0.050338,
     "end_time": "2022-02-26T03:35:53.638464",
     "exception": false,
     "start_time": "2022-02-26T03:35:53.588126",
     "status": "completed"
    },
    "tags": []
   },
   "source": [
    "## Algorithm prediction - validation data <a class=\"anchor\" id=\"seventh-bullet\"></a>"
   ]
  },
  {
   "cell_type": "code",
   "execution_count": 40,
   "id": "ea4df3a4",
   "metadata": {
    "papermill": {
     "duration": 0.0627,
     "end_time": "2022-02-26T03:35:53.751778",
     "exception": false,
     "start_time": "2022-02-26T03:35:53.689078",
     "status": "completed"
    },
    "tags": []
   },
   "outputs": [],
   "source": [
    "# column reorder\n",
    "X_val = X_val[['Pclass', 'Sex', 'Age', 'SibSp', 'Parch', 'Fare', 'Embarked_C','Embarked_Q', 'Embarked_S', 'Cabin_A', 'Cabin_B', 'Cabin_C', 'Cabin_D','Cabin_E', 'Cabin_F', 'Cabin_G', 'Cabin_T', 'Cabin_X']]\n",
    "\n",
    "# Fill empty cells with mean value\n",
    "X_val.Fare = X_val.Fare.fillna(X.Fare.mean())"
   ]
  },
  {
   "cell_type": "code",
   "execution_count": 41,
   "id": "0f1d9ed2",
   "metadata": {
    "papermill": {
     "duration": 0.08016,
     "end_time": "2022-02-26T03:35:53.883286",
     "exception": false,
     "start_time": "2022-02-26T03:35:53.803126",
     "status": "completed"
    },
    "tags": []
   },
   "outputs": [
    {
     "name": "stdout",
     "output_type": "stream",
     "text": [
      "[0 0 0 0 1 0 1 0 1 0 0 0 1 0 1 1 0 0 0 0 0 0 1 0 1 0 1 0 0 0 0 0 0 0 1 0 0\n",
      " 0 0 0 0 0 0 1 1 0 0 0 1 0 0 0 1 1 0 0 0 0 0 1 0 0 0 1 1 1 1 0 0 1 1 0 0 1\n",
      " 1 1 0 1 0 1 1 0 0 0 0 0 1 0 1 1 0 0 1 0 0 0 1 0 0 0 1 0 0 0 1 0 0 0 0 0 0\n",
      " 1 1 1 1 0 0 1 0 1 1 0 1 0 0 1 0 1 0 0 0 0 0 0 0 0 0 0 0 0 0 1 1 0 0 0 1 0\n",
      " 0 0 1 0 0 0 0 0 1 0 0 0 1 1 1 0 0 0 0 0 1 0 0 0 0 0 0 1 1 0 1 1 0 1 1 0 1\n",
      " 0 1 0 0 0 0 0 0 0 1 0 1 1 0 0 1 1 0 1 0 0 1 0 1 0 0 0 0 1 0 0 1 0 1 0 1 0\n",
      " 1 0 1 1 0 1 0 0 0 1 0 0 1 0 1 0 1 1 1 1 1 0 0 0 1 0 1 1 1 0 1 0 0 0 0 0 1\n",
      " 0 0 0 1 1 0 0 0 0 0 0 0 0 1 1 0 1 0 0 0 0 0 1 1 1 1 0 0 1 0 0 0 0 0 0 0 0\n",
      " 1 0 0 0 0 0 0 0 1 1 0 0 0 0 0 0 0 1 1 1 1 0 0 0 0 0 0 0 1 0 1 0 0 0 1 0 0\n",
      " 1 0 0 0 0 0 0 0 0 0 1 0 1 0 0 0 1 1 0 0 0 1 0 1 0 0 0 0 1 1 0 1 0 0 0 1 0\n",
      " 0 1 0 0 1 1 0 0 0 0 0 0 1 0 0 1 0 0 0 0 0 1 0 0 0 1 0 1 0 0 1 0 1 0 1 0 0\n",
      " 0 1 1 1 1 0 0 1 0 0 0]\n"
     ]
    }
   ],
   "source": [
    "y_pred = rs.predict(X_val)\n",
    "print(y_pred)"
   ]
  },
  {
   "cell_type": "code",
   "execution_count": 42,
   "id": "7aa654e6",
   "metadata": {
    "papermill": {
     "duration": 0.067372,
     "end_time": "2022-02-26T03:35:54.002490",
     "exception": false,
     "start_time": "2022-02-26T03:35:53.935118",
     "status": "completed"
    },
    "tags": []
   },
   "outputs": [
    {
     "name": "stdout",
     "output_type": "stream",
     "text": [
      "     PassengerId  Survived\n",
      "0            892         0\n",
      "1            893         0\n",
      "2            894         0\n",
      "3            895         0\n",
      "4            896         1\n",
      "..           ...       ...\n",
      "413         1305         0\n",
      "414         1306         1\n",
      "415         1307         0\n",
      "416         1308         0\n",
      "417         1309         0\n",
      "\n",
      "[418 rows x 2 columns]\n"
     ]
    }
   ],
   "source": [
    "import pandas as pd  \n",
    "  \n",
    "# assign data of lists.  \n",
    "my_predictions = {'PassengerId': range(892,1310), 'Survived': y_pred}  \n",
    "  \n",
    "# Create DataFrame  \n",
    "my_predictions = pd.DataFrame(my_predictions)  \n",
    "  \n",
    "# Print the output.  \n",
    "print(my_predictions)  "
   ]
  },
  {
   "cell_type": "code",
   "execution_count": 44,
   "id": "b8ff002b",
   "metadata": {
    "papermill": {
     "duration": 0.086491,
     "end_time": "2022-02-26T03:35:54.149711",
     "exception": false,
     "start_time": "2022-02-26T03:35:54.063220",
     "status": "completed"
    },
    "tags": []
   },
   "outputs": [],
   "source": [
    "import os  \n",
    "os.makedirs('output', exist_ok=True)  \n",
    "my_predictions.to_csv('output/submission.csv', index=False)  "
   ]
  },
  {
   "cell_type": "markdown",
   "id": "b0bf7b60",
   "metadata": {
    "papermill": {
     "duration": 0.055902,
     "end_time": "2022-02-26T03:35:54.266068",
     "exception": false,
     "start_time": "2022-02-26T03:35:54.210166",
     "status": "completed"
    },
    "tags": []
   },
   "source": [
    ":^)\n",
    "\n",
    "[Back to top](#zero-bullet)"
   ]
  }
 ],
 "metadata": {
  "kernelspec": {
   "display_name": "Python 3 (ipykernel)",
   "language": "python",
   "name": "python3"
  },
  "language_info": {
   "codemirror_mode": {
    "name": "ipython",
    "version": 3
   },
   "file_extension": ".py",
   "mimetype": "text/x-python",
   "name": "python",
   "nbconvert_exporter": "python",
   "pygments_lexer": "ipython3",
   "version": "3.7.12"
  },
  "papermill": {
   "default_parameters": {},
   "duration": 66.764833,
   "end_time": "2022-02-26T03:35:57.144426",
   "environment_variables": {},
   "exception": null,
   "input_path": "__notebook__.ipynb",
   "output_path": "__notebook__.ipynb",
   "parameters": {},
   "start_time": "2022-02-26T03:34:50.379593",
   "version": "2.3.3"
  }
 },
 "nbformat": 4,
 "nbformat_minor": 5
}
